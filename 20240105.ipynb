{
  "nbformat": 4,
  "nbformat_minor": 0,
  "metadata": {
    "colab": {
      "provenance": [],
      "authorship_tag": "ABX9TyPUrWLHFuXGpACG2EB1Kfjh",
      "include_colab_link": true
    },
    "kernelspec": {
      "name": "python3",
      "display_name": "Python 3"
    },
    "language_info": {
      "name": "python"
    }
  },
  "cells": [
    {
      "cell_type": "markdown",
      "metadata": {
        "id": "view-in-github",
        "colab_type": "text"
      },
      "source": [
        "<a href=\"https://colab.research.google.com/github/PMS201945516/aipython/blob/main/20240105.ipynb\" target=\"_parent\"><img src=\"https://colab.research.google.com/assets/colab-badge.svg\" alt=\"Open In Colab\"/></a>"
      ]
    },
    {
      "cell_type": "code",
      "execution_count": 2,
      "metadata": {
        "colab": {
          "base_uri": "https://localhost:8080/"
        },
        "id": "ZFZ9ApNdOk0X",
        "outputId": "add9aeee-6ec0-4533-b43f-ecf64891cb57"
      },
      "outputs": [
        {
          "output_type": "stream",
          "name": "stdout",
          "text": [
            "4\n",
            "5\n",
            "6\n",
            "7\n",
            "8\n",
            "5 8\n"
          ]
        }
      ],
      "source": [
        "the_num = int(input())\n",
        "num=[]\n",
        "i=1\n",
        "while i<=the_num :\n",
        "    nums = (int(input()))\n",
        "    num.append(nums)\n",
        "    i=i+1\n",
        "\n",
        "num.sort()\n",
        "print(num[0],num[-1])"
      ]
    },
    {
      "cell_type": "code",
      "source": [
        "str = input()\n",
        "lines = str.split(\" \")\n",
        "print(lines)"
      ],
      "metadata": {
        "colab": {
          "base_uri": "https://localhost:8080/"
        },
        "id": "IpSZSYnSRErg",
        "outputId": "b1539641-ccad-4894-a2b3-a138807afaf7"
      },
      "execution_count": 9,
      "outputs": [
        {
          "output_type": "stream",
          "name": "stdout",
          "text": [
            "Geeks for Geeks\n",
            "['Geeks', 'for', 'Geeks']\n"
          ]
        }
      ]
    },
    {
      "cell_type": "code",
      "source": [
        "str = [\"Geeks\",\"for\",\"Geeks\"]\n",
        "sentence = \"-\".join(str)\n",
        "print(sentence)"
      ],
      "metadata": {
        "colab": {
          "base_uri": "https://localhost:8080/"
        },
        "id": "Ek5Lf__9RR7f",
        "outputId": "98f30236-8f07-4057-e5ea-b7ccdc6c13e0"
      },
      "execution_count": 8,
      "outputs": [
        {
          "output_type": "stream",
          "name": "stdout",
          "text": [
            "Geeks-for-Geeks\n"
          ]
        }
      ]
    },
    {
      "cell_type": "code",
      "source": [
        "squares = [i**2 for i in range(1,6)]\n",
        "print(squares)"
      ],
      "metadata": {
        "colab": {
          "base_uri": "https://localhost:8080/"
        },
        "id": "2ILTPQg3UVdu",
        "outputId": "ec8a9c11-ccb8-40d6-9606-4031bf9da690"
      },
      "execution_count": 12,
      "outputs": [
        {
          "output_type": "stream",
          "name": "stdout",
          "text": [
            "[1, 4, 9, 16, 25]\n"
          ]
        }
      ]
    },
    {
      "cell_type": "code",
      "source": [
        "city = [\"Seoul\", \"New York\", \"London\", \"Shanghai\", \"Paris\", \"Tokyo\"]\n",
        "str1 = [str1.append(i) for i in city if i in \"S\"]\n",
        "print(str1)"
      ],
      "metadata": {
        "colab": {
          "base_uri": "https://localhost:8080/"
        },
        "id": "8XBfdQ1eVBjl",
        "outputId": "dee7af21-632b-4231-d314-238334cc7a34"
      },
      "execution_count": 14,
      "outputs": [
        {
          "output_type": "stream",
          "name": "stdout",
          "text": [
            "[]\n"
          ]
        }
      ]
    },
    {
      "cell_type": "code",
      "source": [
        "str1 = [\"a\",\"b\",\"c\"]\n",
        "for index, str in enumerate(str1):\n",
        "    print(\"fruit\",index,\"name is\",str)"
      ],
      "metadata": {
        "colab": {
          "base_uri": "https://localhost:8080/"
        },
        "id": "nhk-c6T-WX2_",
        "outputId": "fa867a79-e86c-431e-f3bb-19438793fadc"
      },
      "execution_count": 15,
      "outputs": [
        {
          "output_type": "stream",
          "name": "stdout",
          "text": [
            "fruit 0 name is a\n",
            "fruit 1 name is b\n",
            "fruit 2 name is c\n"
          ]
        }
      ]
    },
    {
      "cell_type": "code",
      "source": [
        "name = [\"M\", \"N\", \"S\", \"A\"]\n",
        "roll_no = [ 4, 1, 3, 2 ]\n",
        "for name_num in zip(name,roll_no):\n",
        "  print(name_num,end=\"\")"
      ],
      "metadata": {
        "colab": {
          "base_uri": "https://localhost:8080/"
        },
        "id": "kZ70oalOahMG",
        "outputId": "b522f186-df33-477e-f4bd-e09a21cf7d5f"
      },
      "execution_count": 22,
      "outputs": [
        {
          "output_type": "stream",
          "name": "stdout",
          "text": [
            "('M', 4)('N', 1)('S', 3)('A', 2)"
          ]
        }
      ]
    },
    {
      "cell_type": "code",
      "source": [
        "names = ['M','R','C']\n",
        "ages = [24, 50, 18]\n",
        "for index,name_num in enumerate(zip(names,ages)):\n",
        "  print(index,name_num)"
      ],
      "metadata": {
        "colab": {
          "base_uri": "https://localhost:8080/"
        },
        "id": "7lETNfsnbZs3",
        "outputId": "614f8ed2-4c5d-443e-d417-a014c9b1cc0d"
      },
      "execution_count": 25,
      "outputs": [
        {
          "output_type": "stream",
          "name": "stdout",
          "text": [
            "0 ('M', 24)\n",
            "1 ('R', 50)\n",
            "2 ('C', 18)\n"
          ]
        }
      ]
    },
    {
      "cell_type": "code",
      "source": [
        "names = ['John', 'Jane', 'Doe']\n",
        "ages = [25, 30, 35]\n",
        "for name, age in zip(names, ages):\n",
        "  print(f\"{name} is {age} years old.\")"
      ],
      "metadata": {
        "colab": {
          "base_uri": "https://localhost:8080/"
        },
        "id": "AabMkvhNVBo3",
        "outputId": "6df91617-c16f-4a37-cd7e-78e3629d284b"
      },
      "execution_count": 20,
      "outputs": [
        {
          "output_type": "stream",
          "name": "stdout",
          "text": [
            "John is 25 years old.\n",
            "Jane is 30 years old.\n",
            "Doe is 35 years old.\n"
          ]
        }
      ]
    },
    {
      "cell_type": "code",
      "source": [
        "add = lambda x,y: x+y  # lambda를 이용한 정의\n",
        "print(add(2,5))"
      ],
      "metadata": {
        "colab": {
          "base_uri": "https://localhost:8080/"
        },
        "id": "6d3UPL_CeKaZ",
        "outputId": "9bdc6d2c-e3c1-413f-fdb0-a7564586edb4"
      },
      "execution_count": 26,
      "outputs": [
        {
          "output_type": "stream",
          "name": "stdout",
          "text": [
            "7\n"
          ]
        }
      ]
    },
    {
      "cell_type": "code",
      "source": [
        "def add(x,y): #def를 이용한 정의\n",
        "  return x+y\n",
        "print(add(2,5))"
      ],
      "metadata": {
        "colab": {
          "base_uri": "https://localhost:8080/"
        },
        "id": "9j1uk2FdeW7r",
        "outputId": "4de2d361-b95d-4078-cddc-16b5a8af51d0"
      },
      "execution_count": 27,
      "outputs": [
        {
          "output_type": "stream",
          "name": "stdout",
          "text": [
            "7\n"
          ]
        }
      ]
    },
    {
      "cell_type": "code",
      "source": [
        "num1 = [4, 5, 6]\n",
        "num2 = [5, 6, 7]\n",
        "print(list(map(lambda a,b:a+b,num1,num2)))"
      ],
      "metadata": {
        "colab": {
          "base_uri": "https://localhost:8080/"
        },
        "id": "uWIZkRz0e1iW",
        "outputId": "85617666-a296-41d6-bd29-d4800f2bcd32"
      },
      "execution_count": 29,
      "outputs": [
        {
          "output_type": "stream",
          "name": "stdout",
          "text": [
            "[9, 11, 13]\n"
          ]
        }
      ]
    },
    {
      "cell_type": "code",
      "source": [
        "A,B,C = map(int,input().split())\n",
        "num = [A,B,C]\n",
        "if A==B or A==C or B==C :\n",
        "  print(\"wrong value\")\n",
        "else :\n",
        "  print(sorted(num, reverse=True))"
      ],
      "metadata": {
        "colab": {
          "base_uri": "https://localhost:8080/"
        },
        "id": "-m6_3bqshnA7",
        "outputId": "d2a85ee1-0683-4958-c721-98329394b5b7"
      },
      "execution_count": 36,
      "outputs": [
        {
          "output_type": "stream",
          "name": "stdout",
          "text": [
            "4 5 6\n",
            "[6, 5, 4]\n"
          ]
        }
      ]
    },
    {
      "cell_type": "code",
      "source": [
        "total_seconds = int(input())\n",
        "hours = total_seconds//3600\n",
        "minutes = (total_seconds//60)%60\n",
        "seconds = total_seconds %60\n",
        "print(\"{:d}시 {:d}분 {:d}초\".format(hours,minutes,seconds))"
      ],
      "metadata": {
        "colab": {
          "base_uri": "https://localhost:8080/"
        },
        "id": "lnFT3Ubnjbap",
        "outputId": "3a14aad4-c24b-4d4d-f414-9c718cbc00cb"
      },
      "execution_count": 38,
      "outputs": [
        {
          "output_type": "stream",
          "name": "stdout",
          "text": [
            "11730\n",
            "3시 15분 30초\n"
          ]
        }
      ]
    }
  ]
}