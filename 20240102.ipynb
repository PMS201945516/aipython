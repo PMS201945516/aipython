{
  "nbformat": 4,
  "nbformat_minor": 0,
  "metadata": {
    "colab": {
      "provenance": [],
      "authorship_tag": "ABX9TyMLeIJ9LPywj67OSecR8zg9",
      "include_colab_link": true
    },
    "kernelspec": {
      "name": "python3",
      "display_name": "Python 3"
    },
    "language_info": {
      "name": "python"
    }
  },
  "cells": [
    {
      "cell_type": "markdown",
      "metadata": {
        "id": "view-in-github",
        "colab_type": "text"
      },
      "source": [
        "<a href=\"https://colab.research.google.com/github/PMS201945516/aipython/blob/main/Untitled1.ipynb\" target=\"_parent\"><img src=\"https://colab.research.google.com/assets/colab-badge.svg\" alt=\"Open In Colab\"/></a>"
      ]
    },
    {
      "cell_type": "code",
      "execution_count": 1,
      "metadata": {
        "colab": {
          "base_uri": "https://localhost:8080/"
        },
        "id": "Pq3NMc4TCG8G",
        "outputId": "bc805cd1-a6d0-44a2-eeb9-e0b371ed2e99"
      },
      "outputs": [
        {
          "output_type": "stream",
          "name": "stdout",
          "text": [
            "우리가 수업하는 실습실:\n",
            "105\n"
          ]
        }
      ],
      "source": [
        "#하나의 변수를 활용하는 코드입니다.\n",
        "Lab = 105\n",
        "print(\"우리가 수업하는 실습실:\")\n",
        "print(Lab)"
      ]
    },
    {
      "cell_type": "code",
      "source": [
        "#하나의 변수를 활용하는 코드입니다.\n",
        "Lab = 105\n",
        "print(\"우리가 수업하는 실습실:\", Lab)"
      ],
      "metadata": {
        "colab": {
          "base_uri": "https://localhost:8080/"
        },
        "id": "wdl8jvGDCixs",
        "outputId": "cc24ee87-1800-4ee1-ab1a-a4b78e9e6b4c"
      },
      "execution_count": 2,
      "outputs": [
        {
          "output_type": "stream",
          "name": "stdout",
          "text": [
            "우리가 수업하는 실습실: 105\n"
          ]
        }
      ]
    },
    {
      "cell_type": "code",
      "source": [
        "#변수 두 개를 생성하고 값을 할당\n",
        "my_id = 201945516\n",
        "grade = 3\n",
        "#두 개의 변수에 할당된 값을 출력\n",
        "print(\"나의 학번:\")\n",
        "print(my_id)\n",
        "print(\"학년:\")\n",
        "print(grade)"
      ],
      "metadata": {
        "colab": {
          "base_uri": "https://localhost:8080/"
        },
        "id": "AZ9Mp2FyC14h",
        "outputId": "7c2fba37-1e1c-4e09-d73c-9805ecf79c46"
      },
      "execution_count": 3,
      "outputs": [
        {
          "output_type": "stream",
          "name": "stdout",
          "text": [
            "나의 학번:\n",
            "201945516\n",
            "학년:\n",
            "3\n"
          ]
        }
      ]
    },
    {
      "cell_type": "code",
      "source": [
        "#변수에 값을 할당, 출력하는 예제\n",
        "#dollars에 값을 할당\n",
        "dollars = 2.75\n",
        "print(\"I have\", dollars, \"in my account.\")\n",
        "\n",
        "#dollars에 새로운 값을 할당\n",
        "dollars = 99.95\n",
        "print(\"But now I have\", dollars, \"in my account.\")"
      ],
      "metadata": {
        "colab": {
          "base_uri": "https://localhost:8080/"
        },
        "id": "7YOsffvYD0IF",
        "outputId": "9eb13bb8-e056-41da-9379-8d7fcc3baf7f"
      },
      "execution_count": 4,
      "outputs": [
        {
          "output_type": "stream",
          "name": "stdout",
          "text": [
            "I have 2.75 in my account.\n",
            "But now I have 99.95 in my account.\n"
          ]
        }
      ]
    },
    {
      "cell_type": "code",
      "source": [
        "#두 개의 변수를 생성, 문자열을 할당.\n",
        "department = \"국어국문학과\"\n",
        "name = \"홍길동\"\n",
        "#각 변수에 할당된 문자열 값을 출력.\n",
        "print(department, name)"
      ],
      "metadata": {
        "colab": {
          "base_uri": "https://localhost:8080/"
        },
        "id": "A7dGJ2n3Ekfr",
        "outputId": "19488fa3-413a-4ad0-8f26-36d816b1a164"
      },
      "execution_count": 5,
      "outputs": [
        {
          "output_type": "stream",
          "name": "stdout",
          "text": [
            "국어국문학과 홍길동\n"
          ]
        }
      ]
    },
    {
      "cell_type": "code",
      "source": [
        "#학과명을 입력받고 변수에 저장\n",
        "department = input(\"학과명:\")\n",
        "#이름을 입력받고 변수에 저장.\n",
        "name = input(\"성명:\")\n",
        "#두 변수를 출력\n",
        "print(\"안녕하세요\", department, name, \"입니다.\")"
      ],
      "metadata": {
        "colab": {
          "base_uri": "https://localhost:8080/"
        },
        "id": "daAYR23fE0UD",
        "outputId": "a600d277-97dc-4b66-daa8-694f5093c6ab"
      },
      "execution_count": 6,
      "outputs": [
        {
          "output_type": "stream",
          "name": "stdout",
          "text": [
            "학과명:생명환경화학과\n",
            "성명:박문수\n",
            "안녕하세요 생명환경화학과 박문수 입니다.\n"
          ]
        }
      ]
    },
    {
      "cell_type": "code",
      "source": [
        "#이름, 나이, 통학시간 정보를 입력, 변수에 저장.\n",
        "name = input(\"당신의 이름은 무엇입니까? \")\n",
        "age = input(\"나이는 어떻게 되시나요? \")\n",
        "commuting_time = float(input(\"통학시간은 얼마나 걸립니까? \"))\n",
        "#변수에 저장된 데이터를 출력\n",
        "print(\"입력 정보는 다음과 같습니다.\")\n",
        "print(\"이름:\", name)\n",
        "print(\"나이:\", age)\n",
        "print(\"통학시간:\", commuting_time)"
      ],
      "metadata": {
        "colab": {
          "base_uri": "https://localhost:8080/"
        },
        "id": "_LXtAV_5FSKL",
        "outputId": "5f4e2fd1-119e-4cc8-b8cd-35c6dead0fcc"
      },
      "execution_count": 9,
      "outputs": [
        {
          "output_type": "stream",
          "name": "stdout",
          "text": [
            "당신의 이름은 무엇입니까? 박문수\n",
            "나이는 어떻게 되시나요? 24\n",
            "통학시간은 얼마나 걸립니까? 0.5\n",
            "입력 정보는 다음과 같습니다.\n",
            "이름: 박문수\n",
            "나이: 24\n",
            "통학시간: 0.5\n"
          ]
        }
      ]
    },
    {
      "cell_type": "code",
      "source": [
        "#변수에 급여를 할당.\n",
        "salary = 2500.0\n",
        "#bonus 변수에 bonus를 할당.\n",
        "bonus = 1200.0\n",
        "#급여와 보너스를 더하여 총 급여를 계산\n",
        "#총 급여를 pay에 저장\n",
        "pay = salary+bonus\n",
        "#총 급여를 출력\n",
        "print(\"총 급여:\", pay)"
      ],
      "metadata": {
        "colab": {
          "base_uri": "https://localhost:8080/"
        },
        "id": "Wy9uJ7XxGQCD",
        "outputId": "016fc0be-c569-4896-f338-174c4199f49a"
      },
      "execution_count": 10,
      "outputs": [
        {
          "output_type": "stream",
          "name": "stdout",
          "text": [
            "총 급여: 3700.0\n"
          ]
        }
      ]
    },
    {
      "cell_type": "code",
      "source": [
        "# 원가에 할인율을 적용하여 할인가격을 계산하는 프로그램\n",
        "# original_price에 원가를 입력.\n",
        "original_price = float(input(\"제품의 원가를 입력해주세요: \"))\n",
        "# 원가에 할인율 20%를 적용하여 할인가를 계산, discount에 저장.\n",
        "discount = original_price *0.2\n",
        "# 원가에 할인가가 적용된 가격을 계산, sale_price에 할당.\n",
        "sale_price = original_price - discount\n",
        "# 할인가가 적용된 제품가격을 출력.\n",
        "print(\"할인가격:\", sale_price)"
      ],
      "metadata": {
        "colab": {
          "base_uri": "https://localhost:8080/"
        },
        "id": "Fw24trLTG_xT",
        "outputId": "548637a7-2cc3-44d8-bd45-50010c05ba3e"
      },
      "execution_count": 11,
      "outputs": [
        {
          "output_type": "stream",
          "name": "stdout",
          "text": [
            "제품의 원가를 입력해주세요: 50.00\n",
            "할인가격: 40.0\n"
          ]
        }
      ]
    },
    {
      "cell_type": "code",
      "source": [
        "#세 과목의 평가 점수를 입력받고 test1, 2, 3에 각각 할당.\n",
        "test1 = float(input(\"첫 번째 과목 점수를 입력하시오: \"))\n",
        "test2 = float(input(\"두 번째 과목 점수를 입력하시오: \"))\n",
        "test3 = float(input(\"세 번째 과목 점수를 입력하시오: \"))\n",
        "#각 과목의 평균을 계산, 그 값을 average에 할당.\n",
        "average = (test1 +test2 + test3)/3.0\n",
        "#점수 평균을 출력\n",
        "print(\"3과목의 평균 점수:\", average)"
      ],
      "metadata": {
        "colab": {
          "base_uri": "https://localhost:8080/"
        },
        "id": "RldVQvvYH7lq",
        "outputId": "b22cade7-867a-4590-c4bb-c10ade96207e"
      },
      "execution_count": 12,
      "outputs": [
        {
          "output_type": "stream",
          "name": "stdout",
          "text": [
            "첫 번째 과목 점수를 입력하시오: 95\n",
            "두 번째 과목 점수를 입력하시오: 76\n",
            "세 번째 과목 점수를 입력하시오: 87\n",
            "3과목의 평균 점수: 86.0\n"
          ]
        }
      ]
    },
    {
      "cell_type": "code",
      "source": [
        "# 초를 입력받아 시, 분, 초로 변환하는 프로그램.\n",
        "# 초 값을 입력받아, total_seconds에 할당.\n",
        "total_seconds = float(input(\"시간 값을 초 단위로 입력하시오: \"))\n",
        "# 시간을 계산하여 hours 변수에 할당.\n",
        "hours = total_seconds//3600\n",
        "# 분을 계산하여 minutes 변수에 할당.\n",
        "minutes = (total_seconds//60)%60\n",
        "#초의 나머지 값을 seconds 변수에 할당.\n",
        "seconds = total_seconds%60\n",
        "# 시, 분, 초 값을 출력한다.\n",
        "print(\"시 분 초는 다음과 같습니다.\")\n",
        "print(\"시:\", hours)\n",
        "print(\"분:\", minutes)\n",
        "print(\"초:\", seconds)"
      ],
      "metadata": {
        "colab": {
          "base_uri": "https://localhost:8080/"
        },
        "id": "s-eAIQxBImEU",
        "outputId": "2247e425-0e1b-441e-958c-2631e4f79d6c"
      },
      "execution_count": 13,
      "outputs": [
        {
          "output_type": "stream",
          "name": "stdout",
          "text": [
            "시간 값을 초 단위로 입력하시오: 11730\n",
            "시 분 초는 다음과 같습니다.\n",
            "시: 3.0\n",
            "분: 15.0\n",
            "초: 30.0\n"
          ]
        }
      ]
    },
    {
      "cell_type": "code",
      "source": [
        "# 목표액을 특정 이율로 얻고자 할 경우 매년 적립해야할 금액을 계산하는 프로그램.\n",
        "# 목표액을 입력, future_value에 저장.\n",
        "future_value = float(input(\"목표 금액: \"))\n",
        "# 연간 이율을 입력, rate에 저장.\n",
        "rate = float(input(\"연간 이율: \"))\n",
        "#적립 기간을 입력, years에 저장.\n",
        "years = int(input(\"적립 기간(다만 연 단위로): \"))\n",
        "#특정 기간동안 적립해야할 연 금액을 계산, present_value 변수에 저장.\n",
        "present_value = future_value/(1.0+rate)**years\n",
        "#적립 금액을 출력.\n",
        "print(\"적립 금액:\", present_value)"
      ],
      "metadata": {
        "colab": {
          "base_uri": "https://localhost:8080/"
        },
        "id": "E7jHMwAfJrns",
        "outputId": "0f694049-96c4-4d60-be35-bc93a6dad987"
      },
      "execution_count": 14,
      "outputs": [
        {
          "output_type": "stream",
          "name": "stdout",
          "text": [
            "목표 금액: 10000.0\n",
            "연간 이율: 0.05\n",
            "적립 기간(다만 연 단위로): 10\n",
            "적립 금액: 6139.132535407592\n"
          ]
        }
      ]
    },
    {
      "cell_type": "code",
      "source": [
        "# print 출력문에서 , 사이를 sep로 조절하기.\n",
        "print(\"a\",\"b\",\"c\")\n",
        "print(\"a\",\"b\",\"c\",sep=\"\")\n",
        "print(\"a\",\"b\",\"c\",sep=\"xxx\")"
      ],
      "metadata": {
        "colab": {
          "base_uri": "https://localhost:8080/"
        },
        "id": "s5W1QkzCKxau",
        "outputId": "dddf66a6-3a34-4187-f821-1e92305fce14"
      },
      "execution_count": 21,
      "outputs": [
        {
          "output_type": "stream",
          "name": "stdout",
          "text": [
            "a b c\n",
            "abc\n",
            "axxxbxxxc\n"
          ]
        }
      ]
    },
    {
      "cell_type": "code",
      "source": [
        "#print 함수는 자동적으로 줄바꿈이 일어남.\n",
        "#이러한 줄바꿈이 일어나지 않고, 같은 줄에 여러 print()문을 출력하기 위해 end 옵션을 사용.\n",
        "print(\"a\")\n",
        "print(\"b\")\n",
        "print(\"c\",end=\"\")\n",
        "print(\"d\")\n",
        "print(\"e\",end=\"***\")\n",
        "print(\"f\")"
      ],
      "metadata": {
        "colab": {
          "base_uri": "https://localhost:8080/"
        },
        "id": "UqQXczxSL5iF",
        "outputId": "0fa601f0-4b91-4f3a-e50e-a0e1a95223a6"
      },
      "execution_count": 25,
      "outputs": [
        {
          "output_type": "stream",
          "name": "stdout",
          "text": [
            "a\n",
            "b\n",
            "cd\n",
            "e***f\n"
          ]
        }
      ]
    },
    {
      "cell_type": "code",
      "source": [
        "# 부동 소수점이 출력되는 연산을 수행하는 프로그램.\n",
        "# 소수점 길이를 제어하지 않고 결과 값을 출력.\n",
        "amount_due = 5000.0\n",
        "monthly_payment = amount_due/12.0\n",
        "print(\"월급여:\", monthly_payment)"
      ],
      "metadata": {
        "colab": {
          "base_uri": "https://localhost:8080/"
        },
        "id": "i03JWN5zMrD1",
        "outputId": "5c0c84d5-b58f-478d-ef86-f33dcd2ad005"
      },
      "execution_count": 26,
      "outputs": [
        {
          "output_type": "stream",
          "name": "stdout",
          "text": [
            "월급여: 416.6666666666667\n"
          ]
        }
      ]
    },
    {
      "cell_type": "code",
      "source": [
        "# 위의 값을 소숫점을 제어하여 나타내는 프로그램\n",
        "amount_due = 5000.0\n",
        "monthly_payment = amount_due/12.0\n",
        "print(\"월급여:\", format(monthly_payment, '5.2f'))"
      ],
      "metadata": {
        "colab": {
          "base_uri": "https://localhost:8080/"
        },
        "id": "RN2OSEc6NGd0",
        "outputId": "7e551f0d-3e89-4f8b-fffb-0ee41df79af9"
      },
      "execution_count": 27,
      "outputs": [
        {
          "output_type": "stream",
          "name": "stdout",
          "text": [
            "월급여: 416.67\n"
          ]
        }
      ]
    },
    {
      "cell_type": "code",
      "source": [
        "# 역시 소숫점을 제어하여 결과값을 출력하는 프로그램.\n",
        "monthly_pay = 5000.0\n",
        "annual_pay = monthly_pay*1.2\n",
        "print(\"Your annual pay is $\", format(annual_pay, ',.2f'), sep=\"\")"
      ],
      "metadata": {
        "colab": {
          "base_uri": "https://localhost:8080/"
        },
        "id": "mBicC8RcNheV",
        "outputId": "bec02722-7a36-4f18-dcd9-f22ff51e3573"
      },
      "execution_count": 28,
      "outputs": [
        {
          "output_type": "stream",
          "name": "stdout",
          "text": [
            "Your annual pay is $6,000.00\n"
          ]
        }
      ]
    },
    {
      "cell_type": "code",
      "source": [
        "# 부동 소수점을 특정 너비에 맞추어 출력하는 방법.\n",
        "# 아래와 같이 각 변수에 부동 소수점이 포함된 값을 할당.\n",
        "num1 = 127.899\n",
        "num2 = 3465.148\n",
        "num3 = 3.776\n",
        "num4 = 264.821\n",
        "num5 = 88.081\n",
        "num6 = 799.999\n",
        "# 7칸에 맞추어 부동 소수점이 포함된 변수 값을 출력한다.\n",
        "print(format(num1, '7.2f'))\n",
        "print(format(num2, '7.2f'))\n",
        "print(format(num3, '7.2f'))\n",
        "print(format(num4, '7.2f'))\n",
        "print(format(num5, '7.2f'))\n",
        "print(format(num6, '7.2f'))"
      ],
      "metadata": {
        "colab": {
          "base_uri": "https://localhost:8080/"
        },
        "id": "t0g5kRASN_Jd",
        "outputId": "24b3a38c-2ac5-4606-f291-8e80e5a91b41"
      },
      "execution_count": 29,
      "outputs": [
        {
          "output_type": "stream",
          "name": "stdout",
          "text": [
            " 127.90\n",
            "3465.15\n",
            "   3.78\n",
            " 264.82\n",
            "  88.08\n",
            " 800.00\n"
          ]
        }
      ]
    }
  ]
}
